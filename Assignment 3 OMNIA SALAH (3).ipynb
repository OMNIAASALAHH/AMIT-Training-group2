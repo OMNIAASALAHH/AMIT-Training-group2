{
 "cells": [
  {
   "cell_type": "markdown",
   "metadata": {},
   "source": [
    "# Assignment 3"
   ]
  },
  {
   "cell_type": "markdown",
   "metadata": {},
   "source": [
    "### Write a function to count the number 4 in a given list."
   ]
  },
  {
   "cell_type": "code",
   "execution_count": 6,
   "metadata": {},
   "outputs": [
    {
     "data": {
      "text/plain": [
       "3"
      ]
     },
     "execution_count": 6,
     "metadata": {},
     "output_type": "execute_result"
    }
   ],
   "source": [
    "# Function to count num 4\n",
    "def CountNum4(list):  \n",
    "    # initizalize counter \n",
    "    counter=0          \n",
    "    # for loop to detect number four that repeated\n",
    "    for i in list:       \n",
    "        if i==4: \n",
    "            counter += 1 \n",
    "            \n",
    "    # return how many i repeated\n",
    "    return counter  \n",
    "list = [1,2,3,4,1,2,3,4,1,2,3,4]\n",
    "# print the times number\n",
    "CountNum4(list)"
   ]
  },
  {
   "cell_type": "markdown",
   "metadata": {},
   "source": [
    "### write a  function to check whether a number is divisible by another number."
   ]
  },
  {
   "cell_type": "code",
   "execution_count": 10,
   "metadata": {},
   "outputs": [
    {
     "name": "stdout",
     "output_type": "stream",
     "text": [
      "True\n",
      "False\n"
     ]
    }
   ],
   "source": [
    "# function to check whether a number is divisble by another\n",
    "\n",
    "def div(numerator, denominator):\n",
    "    \n",
    "    # check if remainder is =0   \n",
    "    if (numerator % denominator == 0):\n",
    "        \n",
    "        return True\n",
    "    \n",
    "    else:\n",
    "        \n",
    "        return False\n",
    "    \n",
    "    \n",
    "print(div(50, 5)) \n",
    "print(div(50, 4)) "
   ]
  },
  {
   "cell_type": "markdown",
   "metadata": {},
   "source": [
    "### write a function to find the maximum and minimum numbers from a sequence of numbers."
   ]
  },
  {
   "cell_type": "code",
   "execution_count": 41,
   "metadata": {},
   "outputs": [
    {
     "name": "stdout",
     "output_type": "stream",
     "text": [
      "(5, -5)\n"
     ]
    }
   ],
   "source": [
    "# function to turn max amd min\n",
    "def max_min(Num):\n",
    "    # initizalize for min and max\n",
    "    max = Num[0]\n",
    "    min = Num[0]\n",
    "    # loop to find tha min and mux numbers\n",
    "    for num in Num:\n",
    "        # if max\n",
    "        if num > max:\n",
    "            max= num\n",
    "        # if min    \n",
    "        elif num < min:\n",
    "            min = num\n",
    "    return max, min\n",
    "# print the min and mux numbers\n",
    "print(max_min([1,2,3,4,5,-1,-2,-3,-4,-5]))"
   ]
  },
  {
   "cell_type": "markdown",
   "metadata": {},
   "source": [
    "### Write a Python function that takes two lists and returns True if they have at least one common member."
   ]
  },
  {
   "cell_type": "code",
   "execution_count": 11,
   "metadata": {},
   "outputs": [
    {
     "data": {
      "text/plain": [
       "True"
      ]
     },
     "execution_count": 11,
     "metadata": {},
     "output_type": "execute_result"
    }
   ],
   "source": [
    "# a function takes two lists and return the common numbers\n",
    "\n",
    "def L (list1, list2):\n",
    "    \n",
    "    #  \n",
    "    for member in list1:\n",
    "        if member in list2:\n",
    "            return True\n",
    "\n",
    "    # return False if no common members are found\n",
    "    return False\n",
    "L([ 1, 2, 3, 4], [4 , 5, 6, 7])\n",
    "    "
   ]
  },
  {
   "cell_type": "code",
   "execution_count": 12,
   "metadata": {},
   "outputs": [
    {
     "data": {
      "text/plain": [
       "False"
      ]
     },
     "execution_count": 12,
     "metadata": {},
     "output_type": "execute_result"
    }
   ],
   "source": [
    "L([ 1, 2, 3, 4], [8 , 5, 6, 7])"
   ]
  },
  {
   "cell_type": "code",
   "execution_count": 13,
   "metadata": {},
   "outputs": [],
   "source": [
    "# Write a Python function to calculate the factorial of a number (a non-negative integer). \n",
    "#The function accepts the number from the user\n"
   ]
  },
  {
   "cell_type": "code",
   "execution_count": 37,
   "metadata": {},
   "outputs": [
    {
     "data": {
      "text/plain": [
       "120"
      ]
     },
     "execution_count": 37,
     "metadata": {},
     "output_type": "execute_result"
    }
   ],
   "source": [
    "# function to get factorial of a given number\n",
    "\n",
    "def fact(number):\n",
    "    \n",
    "    # initialize factorial\n",
    "    fact = 1\n",
    "    \n",
    "    # check that number is a non-negative integer\n",
    "    if number <= 0:\n",
    "        \n",
    "        print(\"Number must be a non-negative integer.\")\n",
    "        return\n",
    "    \n",
    "    else:\n",
    "        \n",
    "        # get factorial\n",
    "        for i in range(number, 0, -1):\n",
    "\n",
    "            fact = fact * i\n",
    "    \n",
    "    return fact\n",
    "        \n",
    "fact(5)"
   ]
  },
  {
   "cell_type": "code",
   "execution_count": 39,
   "metadata": {},
   "outputs": [
    {
     "name": "stdout",
     "output_type": "stream",
     "text": [
      "Number must be a non-negative integer.\n"
     ]
    }
   ],
   "source": [
    "fact(-5)"
   ]
  },
  {
   "cell_type": "markdown",
   "metadata": {},
   "source": [
    "### Write a Python function to check whether a number is in a given range.\n",
    "\n",
    "### The range is from 3 to 11\n"
   ]
  },
  {
   "cell_type": "code",
   "execution_count": 24,
   "metadata": {},
   "outputs": [],
   "source": [
    "# check if a number is in a given range\n",
    "\n",
    "def in_range(number):\n",
    "    \n",
    "    if number in range(3, 12):\n",
    "        return True\n",
    "    else:\n",
    "        return False"
   ]
  },
  {
   "cell_type": "code",
   "execution_count": 40,
   "metadata": {},
   "outputs": [
    {
     "data": {
      "text/plain": [
       "False"
      ]
     },
     "execution_count": 40,
     "metadata": {},
     "output_type": "execute_result"
    }
   ],
   "source": [
    "in_range(12)"
   ]
  },
  {
   "cell_type": "code",
   "execution_count": 27,
   "metadata": {},
   "outputs": [
    {
     "data": {
      "text/plain": [
       "True"
      ]
     },
     "execution_count": 27,
     "metadata": {},
     "output_type": "execute_result"
    }
   ],
   "source": [
    "in_range(11)"
   ]
  },
  {
   "cell_type": "markdown",
   "metadata": {},
   "source": [
    "### Write a  program to create the multiplication table (from 1 to 10) of a number."
   ]
  },
  {
   "cell_type": "code",
   "execution_count": 15,
   "metadata": {},
   "outputs": [],
   "source": [
    "# function that returns multiplication table (from 1 to 10) of a number.\n",
    "\n",
    "def mul(number):\n",
    "    \n",
    "    \n",
    "    # initialize an empty list\n",
    "    table = []\n",
    "    # multiplication table (from 1 to 10) of a number.\n",
    "    for i in range(1, 11):\n",
    "        table.append(number * i)\n",
    "    \n",
    "    return table"
   ]
  },
  {
   "cell_type": "code",
   "execution_count": 17,
   "metadata": {},
   "outputs": [
    {
     "data": {
      "text/plain": [
       "[2, 4, 6, 8, 10, 12, 14, 16, 18, 20]"
      ]
     },
     "execution_count": 17,
     "metadata": {},
     "output_type": "execute_result"
    }
   ],
   "source": [
    "mul(2)"
   ]
  },
  {
   "cell_type": "markdown",
   "metadata": {},
   "source": [
    "#### LESSER OF TWO EVENS: Write a function that returns the lesser of two given numbers *if* both numbers are even, but returns the greater if one or both numbers are odd\n",
    "    lesser_of_two_evens(2,4) --> 2\n",
    "    lesser_of_two_evens(2,5) --> 5"
   ]
  },
  {
   "cell_type": "code",
   "execution_count": 22,
   "metadata": {},
   "outputs": [],
   "source": [
    "\n",
    "#  function that returns the lesser of two given numbers or returns the greater\n",
    "def lesser_of_two_evens (num1,num2):\n",
    "    \n",
    "    # check if two numbers are even\n",
    "    if num1 % 2 == 0 and num2 % 2 == 0:\n",
    "        \n",
    "        # returns the lesser\n",
    "        if num1 < num2:\n",
    "            return num1\n",
    "        else:\n",
    "            return num2\n",
    "        \n",
    "    else:\n",
    "        # returns the greater\n",
    "        if num1 > num2:\n",
    "            return num1\n",
    "        else:\n",
    "            return num2"
   ]
  },
  {
   "cell_type": "code",
   "execution_count": 20,
   "metadata": {},
   "outputs": [
    {
     "data": {
      "text/plain": [
       "2"
      ]
     },
     "execution_count": 20,
     "metadata": {},
     "output_type": "execute_result"
    }
   ],
   "source": [
    "lesser_of_two_evens(2,4)"
   ]
  },
  {
   "cell_type": "code",
   "execution_count": 21,
   "metadata": {},
   "outputs": [
    {
     "data": {
      "text/plain": [
       "5"
      ]
     },
     "execution_count": 21,
     "metadata": {},
     "output_type": "execute_result"
    }
   ],
   "source": [
    "lesser_of_two_evens(2,5)"
   ]
  },
  {
   "cell_type": "code",
   "execution_count": null,
   "metadata": {},
   "outputs": [],
   "source": []
  }
 ],
 "metadata": {
  "kernelspec": {
   "display_name": "Python 3 (ipykernel)",
   "language": "python",
   "name": "python3"
  },
  "language_info": {
   "codemirror_mode": {
    "name": "ipython",
    "version": 3
   },
   "file_extension": ".py",
   "mimetype": "text/x-python",
   "name": "python",
   "nbconvert_exporter": "python",
   "pygments_lexer": "ipython3",
   "version": "3.9.12"
  }
 },
 "nbformat": 4,
 "nbformat_minor": 2
}
